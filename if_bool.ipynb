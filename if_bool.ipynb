{
 "cells": [
  {
   "cell_type": "markdown",
   "id": "romance-eugene",
   "metadata": {},
   "source": [
    "# Skip ` == True` for if sentences"
   ]
  },
  {
   "cell_type": "code",
   "execution_count": null,
   "id": "sporting-bridges",
   "metadata": {},
   "outputs": [],
   "source": [
    "True"
   ]
  },
  {
   "cell_type": "code",
   "execution_count": null,
   "id": "incredible-winter",
   "metadata": {},
   "outputs": [],
   "source": [
    "True == True"
   ]
  },
  {
   "cell_type": "code",
   "execution_count": null,
   "id": "distinguished-nepal",
   "metadata": {},
   "outputs": [],
   "source": [
    "a = 5\n",
    "is_few = a < 10  # True\n",
    "\n",
    "# This works, but looks weird. It is discouraged in PEP-8 (Python style guide)\n",
    "if is_few == True:\n",
    "    print(\"a is few\")\n",
    "    \n",
    "# Use this style instead\n",
    "if is_few:\n",
    "    print(\"a is few\")"
   ]
  },
  {
   "cell_type": "code",
   "execution_count": null,
   "id": "electronic-frost",
   "metadata": {},
   "outputs": [],
   "source": [
    "# This because if will check for True-ness of any expression.\n",
    "# Since `True == True` will result in `True`"
   ]
  },
  {
   "cell_type": "code",
   "execution_count": null,
   "id": "regular-decrease",
   "metadata": {},
   "outputs": [],
   "source": []
  }
 ],
 "metadata": {
  "kernelspec": {
   "display_name": "Python 3",
   "language": "python",
   "name": "python3"
  },
  "language_info": {
   "codemirror_mode": {
    "name": "ipython",
    "version": 3
   },
   "file_extension": ".py",
   "mimetype": "text/x-python",
   "name": "python",
   "nbconvert_exporter": "python",
   "pygments_lexer": "ipython3",
   "version": "3.8.9"
  }
 },
 "nbformat": 4,
 "nbformat_minor": 5
}
