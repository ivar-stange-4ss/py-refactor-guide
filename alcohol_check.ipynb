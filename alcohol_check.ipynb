{
 "cells": [
  {
   "cell_type": "markdown",
   "id": "ignored-wednesday",
   "metadata": {},
   "source": [
    "# Lets do a refactoring exercise\n",
    "## We start with a very simple example of nested ifs for determining if a person can buy alcohol or not.\n",
    "The rules are as follows:\n",
    "* No person below 18 can buy any alcohol.\n",
    "* If you are 18 but have not yet reached 20, you are allowed to buy alcohol up to 22%.\n",
    "* Are you over 20, it's anything-goes :)"
   ]
  },
  {
   "cell_type": "markdown",
   "id": "tracked-provider",
   "metadata": {},
   "source": [
    "### Some setup and a simple checker that checks ages 10, 19 and 30 against the percentages 0, 12 and 40."
   ]
  },
  {
   "cell_type": "code",
   "execution_count": null,
   "id": "current-professor",
   "metadata": {},
   "outputs": [],
   "source": [
    "PCT_LIMIT_20 = 22\n",
    "\n",
    "def check(func):\n",
    "    print(f\"Should be True:  {func(10, 0)}\")\n",
    "    print(f\"Should be False: {func(10, 12)}\")\n",
    "    print(f\"Should be False: {func(10, 40)}\")\n",
    "    print(f\"Should be True:  {func(19, 0)}\")\n",
    "    print(f\"Should be True:  {func(19, 12)}\")\n",
    "    print(f\"Should be False: {func(19, 40)}\")\n",
    "    print(f\"Should be True:  {func(30, 0)}\")\n",
    "    print(f\"Should be True:  {func(30, 12)}\")\n",
    "    print(f\"Should be True:  {func(30, 40)}\")"
   ]
  },
  {
   "cell_type": "markdown",
   "id": "divided-looking",
   "metadata": {},
   "source": [
    "# Approach #1\n",
    "## The Naive approach"
   ]
  },
  {
   "cell_type": "code",
   "execution_count": null,
   "id": "assumed-architecture",
   "metadata": {},
   "outputs": [],
   "source": [
    "def can_buy_alc(age, alc_pct):\n",
    "    can_buy = False\n",
    "    if age < 18:\n",
    "        if alc_pct == 0:\n",
    "            can_buy = True\n",
    "        else:\n",
    "            can_buy = False\n",
    "    elif 18 <= age <= 20:\n",
    "        if alc_pct < PCT_LIMIT_20:\n",
    "            can_buy = True\n",
    "        else:\n",
    "            can_buy = False\n",
    "    else:\n",
    "        can_buy = True\n",
    "    return can_buy\n",
    "\n",
    "check(can_buy_alc)"
   ]
  },
  {
   "cell_type": "markdown",
   "id": "vocational-ferry",
   "metadata": {},
   "source": [
    "# Approach #2\n",
    "## Remove else's as they are overwriting with the same value"
   ]
  },
  {
   "cell_type": "code",
   "execution_count": null,
   "id": "composite-girlfriend",
   "metadata": {},
   "outputs": [],
   "source": [
    "def can_buy_alc2(age, alc_pct):\n",
    "    can_buy = False\n",
    "    if age < 18:\n",
    "        if alc_pct == 0:\n",
    "            can_buy = True\n",
    "    elif 18 <= age <= 20:\n",
    "        if alc_pct < PCT_LIMIT_20:\n",
    "            can_buy = True\n",
    "    else:\n",
    "        can_buy = True\n",
    "    return can_buy\n",
    "\n",
    "check(can_buy_alc2)"
   ]
  },
  {
   "cell_type": "markdown",
   "id": "addressed-copying",
   "metadata": {},
   "source": [
    "# Approach #3\n",
    "## Use return directly so we avoid storing in a variable"
   ]
  },
  {
   "cell_type": "code",
   "execution_count": null,
   "id": "automated-renewal",
   "metadata": {},
   "outputs": [],
   "source": [
    "def can_buy_alc3(age, alc_pct):\n",
    "    if age < 18:\n",
    "        if alc_pct == 0:\n",
    "            return True\n",
    "    elif 18 <= age <= 20:\n",
    "        if alc_pct < PCT_LIMIT_20:\n",
    "            return True\n",
    "    else:\n",
    "        return True\n",
    "    return False\n",
    "\n",
    "check(can_buy_alc3)"
   ]
  },
  {
   "cell_type": "markdown",
   "id": "played-mining",
   "metadata": {},
   "source": [
    "# Approach #4\n",
    "## Can we reorder and combine some ifs to remove indents? Probably.."
   ]
  },
  {
   "cell_type": "code",
   "execution_count": null,
   "id": "disabled-sending",
   "metadata": {},
   "outputs": [],
   "source": [
    "def can_buy_alc4(age, alc_pct):\n",
    "    if age >= 20:\n",
    "        return True\n",
    "    if age < 18 and alc_pct == 0:\n",
    "        return True\n",
    "    elif 18 <= age <= 20:\n",
    "        if alc_pct < PCT_LIMIT_20:\n",
    "            return True\n",
    "    return False\n",
    "\n",
    "check(can_buy_alc4)"
   ]
  },
  {
   "cell_type": "markdown",
   "id": "looking-peace",
   "metadata": {},
   "source": [
    "# Approach #5\n",
    "## Can we make it a bit smarter?\n",
    "In what cases are we ALWAYS allowed to buy?"
   ]
  },
  {
   "cell_type": "code",
   "execution_count": null,
   "id": "narrative-johnston",
   "metadata": {},
   "outputs": [],
   "source": [
    "def can_buy_alc5(age, alc_pct):\n",
    "    if age >= 20 or alc_pct == 0:\n",
    "        return True\n",
    "    if (18 <= age <= 20) and alc_pct < PCT_LIMIT_20:\n",
    "        return True\n",
    "    return False\n",
    "\n",
    "check(can_buy_alc5)"
   ]
  },
  {
   "cell_type": "markdown",
   "id": "middle-distributor",
   "metadata": {},
   "source": [
    "# Approach 6\n",
    "## Can we merge even more and make the last if a direct return??"
   ]
  },
  {
   "cell_type": "code",
   "execution_count": null,
   "id": "bibliographic-introduction",
   "metadata": {},
   "outputs": [],
   "source": [
    "def can_buy_alc6(age, alc_pct):\n",
    "    if age >= 20 or alc_pct == 0:\n",
    "        return True\n",
    "    return (18 <= age <= 20) and alc_pct < PCT_LIMIT_20\n",
    "\n",
    "check(can_buy_alc6)"
   ]
  },
  {
   "cell_type": "markdown",
   "id": "civic-humor",
   "metadata": {},
   "source": [
    "# Approach #7\n",
    "## Readability counts, right? .. RIGHT???"
   ]
  },
  {
   "cell_type": "code",
   "execution_count": null,
   "id": "provincial-johnston",
   "metadata": {},
   "outputs": [],
   "source": [
    "def can_buy_alc7(age, alc_pct):\n",
    "    return (age >= 20 or alc_pct == 0) or ((18 <= age <= 20) and alc_pct < PCT_LIMIT_20)\n",
    "\n",
    "check(can_buy_alc7)"
   ]
  },
  {
   "attachments": {
    "37d54824-1886-4d59-9637-e2e562da10fa.png": {
     "image/png": "[encoded data removed]"
    }
   },
   "cell_type": "markdown",
   "id": "identical-portland",
   "metadata": {},
   "source": [
    "# Lines of code vs readability\n",
    "\n",
    "![image.png](attachment:37d54824-1886-4d59-9637-e2e562da10fa.png)"
   ]
  },
  {
   "cell_type": "code",
   "execution_count": null,
   "id": "greek-transport",
   "metadata": {},
   "outputs": [],
   "source": []
  }
 ],
 "metadata": {
  "kernelspec": {
   "display_name": "Python 3",
   "language": "python",
   "name": "python3"
  },
  "language_info": {
   "codemirror_mode": {
    "name": "ipython",
    "version": 3
   },
   "file_extension": ".py",
   "mimetype": "text/x-python",
   "name": "python",
   "nbconvert_exporter": "python",
   "pygments_lexer": "ipython3",
   "version": "3.8.9"
  }
 },
 "nbformat": 4,
 "nbformat_minor": 5
}
